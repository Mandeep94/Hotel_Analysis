{
 "cells": [
  {
   "cell_type": "markdown",
   "metadata": {},
   "source": [
    "# Hotel Data Analysis"
   ]
  },
  {
   "cell_type": "markdown",
   "metadata": {},
   "source": [
    "In this notebook we have 5 hotels: \n",
    "1. Holiday Inn Los Angeles International Airport\n",
    "2. Shores Resort and Spa\n",
    "3. Best Western Plus Eagle Rock Inn\n",
    "4. Best Western The Hotel California\n",
    "5. Four Seasons Hotel George V Paris\n",
    "\n",
    "we analyze the data first and then we try to find the best hotel, out of above mentioned, for the token provided"
   ]
  },
  {
   "cell_type": "code",
   "execution_count": 2,
   "metadata": {
    "collapsed": false
   },
   "outputs": [],
   "source": [
    "from nltk.tokenize import sent_tokenize\n",
    "from IPython.display import display\n",
    "import pandas as pd\n",
    "import numpy as np\n",
    "import json\n",
    "import csv\n",
    "import sys\n",
    "import json_to_csv\n",
    "%matplotlib inline"
   ]
  },
  {
   "cell_type": "code",
   "execution_count": 3,
   "metadata": {
    "collapsed": false
   },
   "outputs": [
    {
     "name": "stdout",
     "output_type": "stream",
     "text": [
      "Just completed writing csv file with 15 columns\n",
      "Just completed writing csv file with 15 columns\n",
      "Just completed writing csv file with 15 columns\n",
      "Just completed writing csv file with 12 columns\n",
      "Just completed writing csv file with 15 columns\n"
     ]
    }
   ],
   "source": [
    "#To make it easy to analyze the data I parsed the json Review parts into csv files for each hotel\n",
    "%run json_to_csv Reviews reviews1.json r1.csv\n",
    "%run json_to_csv Reviews reviews2.json r2.csv\n",
    "%run json_to_csv Reviews reviews3.json r3.csv\n",
    "%run json_to_csv Reviews reviews4.json r4.csv\n",
    "%run json_to_csv Reviews reviews5.json r5.csv"
   ]
  },
  {
   "cell_type": "code",
   "execution_count": 4,
   "metadata": {
    "collapsed": true
   },
   "outputs": [],
   "source": [
    "#load the csv files into a list variable \n",
    "reviews=[]\n",
    "files = ['r1.csv', 'r2.csv', 'r3.csv', 'r4.csv', 'r5.csv']\n",
    "for f in files:\n",
    "    reviews.append(pd.read_csv(f))"
   ]
  },
  {
   "cell_type": "code",
   "execution_count": 5,
   "metadata": {
    "collapsed": false
   },
   "outputs": [
    {
     "data": {
      "text/plain": [
       "Reviews_Author                                              False\n",
       "Reviews_AuthorLocation                                       True\n",
       "Reviews_Content                                             False\n",
       "Reviews_Date                                                False\n",
       "Reviews_Ratings_Business service (e.g., internet access)     True\n",
       "Reviews_Ratings_Check in / front desk                        True\n",
       "Reviews_Ratings_Cleanliness                                  True\n",
       "Reviews_Ratings_Location                                     True\n",
       "Reviews_Ratings_Overall                                     False\n",
       "Reviews_Ratings_Rooms                                        True\n",
       "Reviews_Ratings_Service                                      True\n",
       "Reviews_Ratings_Sleep Quality                                True\n",
       "Reviews_Ratings_Value                                        True\n",
       "Reviews_ReviewID                                            False\n",
       "Reviews_Title                                               False\n",
       "dtype: bool"
      ]
     },
     "metadata": {},
     "output_type": "display_data"
    },
    {
     "data": {
      "text/plain": [
       "Reviews_Author                                              False\n",
       "Reviews_AuthorLocation                                       True\n",
       "Reviews_Content                                             False\n",
       "Reviews_Date                                                False\n",
       "Reviews_Ratings_Business service (e.g., internet access)     True\n",
       "Reviews_Ratings_Check in / front desk                        True\n",
       "Reviews_Ratings_Cleanliness                                  True\n",
       "Reviews_Ratings_Location                                     True\n",
       "Reviews_Ratings_Overall                                     False\n",
       "Reviews_Ratings_Rooms                                        True\n",
       "Reviews_Ratings_Service                                      True\n",
       "Reviews_Ratings_Sleep Quality                                True\n",
       "Reviews_Ratings_Value                                        True\n",
       "Reviews_ReviewID                                            False\n",
       "Reviews_Title                                               False\n",
       "dtype: bool"
      ]
     },
     "metadata": {},
     "output_type": "display_data"
    },
    {
     "data": {
      "text/plain": [
       "Reviews_Author                                              False\n",
       "Reviews_AuthorLocation                                      False\n",
       "Reviews_Content                                             False\n",
       "Reviews_Date                                                False\n",
       "Reviews_Ratings_Business service (e.g., internet access)     True\n",
       "Reviews_Ratings_Check in / front desk                        True\n",
       "Reviews_Ratings_Cleanliness                                 False\n",
       "Reviews_Ratings_Location                                     True\n",
       "Reviews_Ratings_Overall                                     False\n",
       "Reviews_Ratings_Rooms                                        True\n",
       "Reviews_Ratings_Service                                     False\n",
       "Reviews_Ratings_Sleep Quality                                True\n",
       "Reviews_Ratings_Value                                       False\n",
       "Reviews_ReviewID                                            False\n",
       "Reviews_Title                                               False\n",
       "dtype: bool"
      ]
     },
     "metadata": {},
     "output_type": "display_data"
    },
    {
     "data": {
      "text/plain": [
       "Reviews_Author                           False\n",
       "Reviews_Content                          False\n",
       "Reviews_Date                             False\n",
       "Reviews_Ratings_Business service         False\n",
       "Reviews_Ratings_Check in / front desk    False\n",
       "Reviews_Ratings_Cleanliness              False\n",
       "Reviews_Ratings_Location                 False\n",
       "Reviews_Ratings_Overall                  False\n",
       "Reviews_Ratings_Rooms                    False\n",
       "Reviews_Ratings_Service                  False\n",
       "Reviews_Ratings_Value                    False\n",
       "Reviews_ReviewID                         False\n",
       "dtype: bool"
      ]
     },
     "metadata": {},
     "output_type": "display_data"
    },
    {
     "data": {
      "text/plain": [
       "Reviews_Author                                              False\n",
       "Reviews_AuthorLocation                                       True\n",
       "Reviews_Content                                             False\n",
       "Reviews_Date                                                False\n",
       "Reviews_Ratings_Business service (e.g., internet access)     True\n",
       "Reviews_Ratings_Check in / front desk                        True\n",
       "Reviews_Ratings_Cleanliness                                  True\n",
       "Reviews_Ratings_Location                                     True\n",
       "Reviews_Ratings_Overall                                     False\n",
       "Reviews_Ratings_Rooms                                        True\n",
       "Reviews_Ratings_Service                                      True\n",
       "Reviews_Ratings_Sleep Quality                                True\n",
       "Reviews_Ratings_Value                                        True\n",
       "Reviews_ReviewID                                            False\n",
       "Reviews_Title                                               False\n",
       "dtype: bool"
      ]
     },
     "metadata": {},
     "output_type": "display_data"
    }
   ],
   "source": [
    "# we iterate over each hotel data and see if any values are missing\n",
    "for r in reviews:\n",
    "    display(r.isnull().any())"
   ]
  },
  {
   "cell_type": "markdown",
   "metadata": {},
   "source": [
    "As you can see that most of the columns has missing values but 4th hotel has all the values present but whole columns are missing. Also name of one column is different in that too."
   ]
  },
  {
   "cell_type": "code",
   "execution_count": 6,
   "metadata": {
    "collapsed": false
   },
   "outputs": [
    {
     "data": {
      "text/plain": [
       "(188, 15)"
      ]
     },
     "metadata": {},
     "output_type": "display_data"
    },
    {
     "data": {
      "text/html": [
       "<div>\n",
       "<table border=\"1\" class=\"dataframe\">\n",
       "  <thead>\n",
       "    <tr style=\"text-align: right;\">\n",
       "      <th></th>\n",
       "      <th>Reviews_Ratings_Business service (e.g., internet access)</th>\n",
       "      <th>Reviews_Ratings_Check in / front desk</th>\n",
       "      <th>Reviews_Ratings_Cleanliness</th>\n",
       "      <th>Reviews_Ratings_Location</th>\n",
       "      <th>Reviews_Ratings_Overall</th>\n",
       "      <th>Reviews_Ratings_Rooms</th>\n",
       "      <th>Reviews_Ratings_Service</th>\n",
       "      <th>Reviews_Ratings_Sleep Quality</th>\n",
       "      <th>Reviews_Ratings_Value</th>\n",
       "    </tr>\n",
       "  </thead>\n",
       "  <tbody>\n",
       "    <tr>\n",
       "      <th>count</th>\n",
       "      <td>22.000000</td>\n",
       "      <td>30.000000</td>\n",
       "      <td>168.000000</td>\n",
       "      <td>139.000000</td>\n",
       "      <td>188.000000</td>\n",
       "      <td>150.000000</td>\n",
       "      <td>164.000000</td>\n",
       "      <td>86.000000</td>\n",
       "      <td>167.000000</td>\n",
       "    </tr>\n",
       "    <tr>\n",
       "      <th>mean</th>\n",
       "      <td>3.136364</td>\n",
       "      <td>3.433333</td>\n",
       "      <td>3.589286</td>\n",
       "      <td>3.446043</td>\n",
       "      <td>3.132979</td>\n",
       "      <td>3.406667</td>\n",
       "      <td>3.286585</td>\n",
       "      <td>3.488372</td>\n",
       "      <td>3.347305</td>\n",
       "    </tr>\n",
       "    <tr>\n",
       "      <th>std</th>\n",
       "      <td>1.283427</td>\n",
       "      <td>1.072648</td>\n",
       "      <td>1.154685</td>\n",
       "      <td>1.143175</td>\n",
       "      <td>1.274336</td>\n",
       "      <td>1.193363</td>\n",
       "      <td>1.314223</td>\n",
       "      <td>1.299268</td>\n",
       "      <td>1.321409</td>\n",
       "    </tr>\n",
       "    <tr>\n",
       "      <th>min</th>\n",
       "      <td>1.000000</td>\n",
       "      <td>1.000000</td>\n",
       "      <td>1.000000</td>\n",
       "      <td>1.000000</td>\n",
       "      <td>1.000000</td>\n",
       "      <td>1.000000</td>\n",
       "      <td>1.000000</td>\n",
       "      <td>1.000000</td>\n",
       "      <td>1.000000</td>\n",
       "    </tr>\n",
       "    <tr>\n",
       "      <th>25%</th>\n",
       "      <td>3.000000</td>\n",
       "      <td>3.000000</td>\n",
       "      <td>3.000000</td>\n",
       "      <td>3.000000</td>\n",
       "      <td>2.000000</td>\n",
       "      <td>3.000000</td>\n",
       "      <td>3.000000</td>\n",
       "      <td>3.000000</td>\n",
       "      <td>2.000000</td>\n",
       "    </tr>\n",
       "    <tr>\n",
       "      <th>50%</th>\n",
       "      <td>3.000000</td>\n",
       "      <td>3.000000</td>\n",
       "      <td>4.000000</td>\n",
       "      <td>4.000000</td>\n",
       "      <td>3.000000</td>\n",
       "      <td>4.000000</td>\n",
       "      <td>3.000000</td>\n",
       "      <td>4.000000</td>\n",
       "      <td>4.000000</td>\n",
       "    </tr>\n",
       "    <tr>\n",
       "      <th>75%</th>\n",
       "      <td>4.000000</td>\n",
       "      <td>4.000000</td>\n",
       "      <td>5.000000</td>\n",
       "      <td>4.000000</td>\n",
       "      <td>4.000000</td>\n",
       "      <td>4.000000</td>\n",
       "      <td>4.000000</td>\n",
       "      <td>4.750000</td>\n",
       "      <td>4.000000</td>\n",
       "    </tr>\n",
       "    <tr>\n",
       "      <th>max</th>\n",
       "      <td>5.000000</td>\n",
       "      <td>5.000000</td>\n",
       "      <td>5.000000</td>\n",
       "      <td>5.000000</td>\n",
       "      <td>5.000000</td>\n",
       "      <td>5.000000</td>\n",
       "      <td>5.000000</td>\n",
       "      <td>5.000000</td>\n",
       "      <td>5.000000</td>\n",
       "    </tr>\n",
       "  </tbody>\n",
       "</table>\n",
       "</div>"
      ],
      "text/plain": [
       "       Reviews_Ratings_Business service (e.g., internet access)  \\\n",
       "count                                          22.000000          \n",
       "mean                                            3.136364          \n",
       "std                                             1.283427          \n",
       "min                                             1.000000          \n",
       "25%                                             3.000000          \n",
       "50%                                             3.000000          \n",
       "75%                                             4.000000          \n",
       "max                                             5.000000          \n",
       "\n",
       "       Reviews_Ratings_Check in / front desk  Reviews_Ratings_Cleanliness  \\\n",
       "count                              30.000000                   168.000000   \n",
       "mean                                3.433333                     3.589286   \n",
       "std                                 1.072648                     1.154685   \n",
       "min                                 1.000000                     1.000000   \n",
       "25%                                 3.000000                     3.000000   \n",
       "50%                                 3.000000                     4.000000   \n",
       "75%                                 4.000000                     5.000000   \n",
       "max                                 5.000000                     5.000000   \n",
       "\n",
       "       Reviews_Ratings_Location  Reviews_Ratings_Overall  \\\n",
       "count                139.000000               188.000000   \n",
       "mean                   3.446043                 3.132979   \n",
       "std                    1.143175                 1.274336   \n",
       "min                    1.000000                 1.000000   \n",
       "25%                    3.000000                 2.000000   \n",
       "50%                    4.000000                 3.000000   \n",
       "75%                    4.000000                 4.000000   \n",
       "max                    5.000000                 5.000000   \n",
       "\n",
       "       Reviews_Ratings_Rooms  Reviews_Ratings_Service  \\\n",
       "count             150.000000               164.000000   \n",
       "mean                3.406667                 3.286585   \n",
       "std                 1.193363                 1.314223   \n",
       "min                 1.000000                 1.000000   \n",
       "25%                 3.000000                 3.000000   \n",
       "50%                 4.000000                 3.000000   \n",
       "75%                 4.000000                 4.000000   \n",
       "max                 5.000000                 5.000000   \n",
       "\n",
       "       Reviews_Ratings_Sleep Quality  Reviews_Ratings_Value  \n",
       "count                      86.000000             167.000000  \n",
       "mean                        3.488372               3.347305  \n",
       "std                         1.299268               1.321409  \n",
       "min                         1.000000               1.000000  \n",
       "25%                         3.000000               2.000000  \n",
       "50%                         4.000000               4.000000  \n",
       "75%                         4.750000               4.000000  \n",
       "max                         5.000000               5.000000  "
      ]
     },
     "metadata": {},
     "output_type": "display_data"
    },
    {
     "data": {
      "text/plain": [
       "(364, 15)"
      ]
     },
     "metadata": {},
     "output_type": "display_data"
    },
    {
     "data": {
      "text/html": [
       "<div>\n",
       "<table border=\"1\" class=\"dataframe\">\n",
       "  <thead>\n",
       "    <tr style=\"text-align: right;\">\n",
       "      <th></th>\n",
       "      <th>Reviews_Ratings_Business service (e.g., internet access)</th>\n",
       "      <th>Reviews_Ratings_Check in / front desk</th>\n",
       "      <th>Reviews_Ratings_Cleanliness</th>\n",
       "      <th>Reviews_Ratings_Location</th>\n",
       "      <th>Reviews_Ratings_Overall</th>\n",
       "      <th>Reviews_Ratings_Rooms</th>\n",
       "      <th>Reviews_Ratings_Service</th>\n",
       "      <th>Reviews_Ratings_Sleep Quality</th>\n",
       "      <th>Reviews_Ratings_Value</th>\n",
       "    </tr>\n",
       "  </thead>\n",
       "  <tbody>\n",
       "    <tr>\n",
       "      <th>count</th>\n",
       "      <td>34.000000</td>\n",
       "      <td>47.000000</td>\n",
       "      <td>350.000000</td>\n",
       "      <td>314.000000</td>\n",
       "      <td>364.000000</td>\n",
       "      <td>314.000000</td>\n",
       "      <td>354.000000</td>\n",
       "      <td>212.000000</td>\n",
       "      <td>347.000000</td>\n",
       "    </tr>\n",
       "    <tr>\n",
       "      <th>mean</th>\n",
       "      <td>4.205882</td>\n",
       "      <td>4.148936</td>\n",
       "      <td>4.377143</td>\n",
       "      <td>4.493631</td>\n",
       "      <td>4.225275</td>\n",
       "      <td>4.378981</td>\n",
       "      <td>4.214689</td>\n",
       "      <td>4.339623</td>\n",
       "      <td>4.072046</td>\n",
       "    </tr>\n",
       "    <tr>\n",
       "      <th>std</th>\n",
       "      <td>1.038046</td>\n",
       "      <td>1.122472</td>\n",
       "      <td>0.939757</td>\n",
       "      <td>0.784204</td>\n",
       "      <td>1.077605</td>\n",
       "      <td>0.886356</td>\n",
       "      <td>1.116048</td>\n",
       "      <td>0.982180</td>\n",
       "      <td>1.108557</td>\n",
       "    </tr>\n",
       "    <tr>\n",
       "      <th>min</th>\n",
       "      <td>2.000000</td>\n",
       "      <td>1.000000</td>\n",
       "      <td>1.000000</td>\n",
       "      <td>1.000000</td>\n",
       "      <td>1.000000</td>\n",
       "      <td>1.000000</td>\n",
       "      <td>1.000000</td>\n",
       "      <td>1.000000</td>\n",
       "      <td>1.000000</td>\n",
       "    </tr>\n",
       "    <tr>\n",
       "      <th>25%</th>\n",
       "      <td>3.250000</td>\n",
       "      <td>3.000000</td>\n",
       "      <td>4.000000</td>\n",
       "      <td>4.000000</td>\n",
       "      <td>4.000000</td>\n",
       "      <td>4.000000</td>\n",
       "      <td>4.000000</td>\n",
       "      <td>4.000000</td>\n",
       "      <td>3.000000</td>\n",
       "    </tr>\n",
       "    <tr>\n",
       "      <th>50%</th>\n",
       "      <td>5.000000</td>\n",
       "      <td>5.000000</td>\n",
       "      <td>5.000000</td>\n",
       "      <td>5.000000</td>\n",
       "      <td>5.000000</td>\n",
       "      <td>5.000000</td>\n",
       "      <td>5.000000</td>\n",
       "      <td>5.000000</td>\n",
       "      <td>4.000000</td>\n",
       "    </tr>\n",
       "    <tr>\n",
       "      <th>75%</th>\n",
       "      <td>5.000000</td>\n",
       "      <td>5.000000</td>\n",
       "      <td>5.000000</td>\n",
       "      <td>5.000000</td>\n",
       "      <td>5.000000</td>\n",
       "      <td>5.000000</td>\n",
       "      <td>5.000000</td>\n",
       "      <td>5.000000</td>\n",
       "      <td>5.000000</td>\n",
       "    </tr>\n",
       "    <tr>\n",
       "      <th>max</th>\n",
       "      <td>5.000000</td>\n",
       "      <td>5.000000</td>\n",
       "      <td>5.000000</td>\n",
       "      <td>5.000000</td>\n",
       "      <td>5.000000</td>\n",
       "      <td>5.000000</td>\n",
       "      <td>5.000000</td>\n",
       "      <td>5.000000</td>\n",
       "      <td>5.000000</td>\n",
       "    </tr>\n",
       "  </tbody>\n",
       "</table>\n",
       "</div>"
      ],
      "text/plain": [
       "       Reviews_Ratings_Business service (e.g., internet access)  \\\n",
       "count                                          34.000000          \n",
       "mean                                            4.205882          \n",
       "std                                             1.038046          \n",
       "min                                             2.000000          \n",
       "25%                                             3.250000          \n",
       "50%                                             5.000000          \n",
       "75%                                             5.000000          \n",
       "max                                             5.000000          \n",
       "\n",
       "       Reviews_Ratings_Check in / front desk  Reviews_Ratings_Cleanliness  \\\n",
       "count                              47.000000                   350.000000   \n",
       "mean                                4.148936                     4.377143   \n",
       "std                                 1.122472                     0.939757   \n",
       "min                                 1.000000                     1.000000   \n",
       "25%                                 3.000000                     4.000000   \n",
       "50%                                 5.000000                     5.000000   \n",
       "75%                                 5.000000                     5.000000   \n",
       "max                                 5.000000                     5.000000   \n",
       "\n",
       "       Reviews_Ratings_Location  Reviews_Ratings_Overall  \\\n",
       "count                314.000000               364.000000   \n",
       "mean                   4.493631                 4.225275   \n",
       "std                    0.784204                 1.077605   \n",
       "min                    1.000000                 1.000000   \n",
       "25%                    4.000000                 4.000000   \n",
       "50%                    5.000000                 5.000000   \n",
       "75%                    5.000000                 5.000000   \n",
       "max                    5.000000                 5.000000   \n",
       "\n",
       "       Reviews_Ratings_Rooms  Reviews_Ratings_Service  \\\n",
       "count             314.000000               354.000000   \n",
       "mean                4.378981                 4.214689   \n",
       "std                 0.886356                 1.116048   \n",
       "min                 1.000000                 1.000000   \n",
       "25%                 4.000000                 4.000000   \n",
       "50%                 5.000000                 5.000000   \n",
       "75%                 5.000000                 5.000000   \n",
       "max                 5.000000                 5.000000   \n",
       "\n",
       "       Reviews_Ratings_Sleep Quality  Reviews_Ratings_Value  \n",
       "count                     212.000000             347.000000  \n",
       "mean                        4.339623               4.072046  \n",
       "std                         0.982180               1.108557  \n",
       "min                         1.000000               1.000000  \n",
       "25%                         4.000000               3.000000  \n",
       "50%                         5.000000               4.000000  \n",
       "75%                         5.000000               5.000000  \n",
       "max                         5.000000               5.000000  "
      ]
     },
     "metadata": {},
     "output_type": "display_data"
    },
    {
     "data": {
      "text/plain": [
       "(13, 15)"
      ]
     },
     "metadata": {},
     "output_type": "display_data"
    },
    {
     "data": {
      "text/html": [
       "<div>\n",
       "<table border=\"1\" class=\"dataframe\">\n",
       "  <thead>\n",
       "    <tr style=\"text-align: right;\">\n",
       "      <th></th>\n",
       "      <th>Reviews_Ratings_Business service (e.g., internet access)</th>\n",
       "      <th>Reviews_Ratings_Check in / front desk</th>\n",
       "      <th>Reviews_Ratings_Cleanliness</th>\n",
       "      <th>Reviews_Ratings_Location</th>\n",
       "      <th>Reviews_Ratings_Overall</th>\n",
       "      <th>Reviews_Ratings_Rooms</th>\n",
       "      <th>Reviews_Ratings_Service</th>\n",
       "      <th>Reviews_Ratings_Sleep Quality</th>\n",
       "      <th>Reviews_Ratings_Value</th>\n",
       "    </tr>\n",
       "  </thead>\n",
       "  <tbody>\n",
       "    <tr>\n",
       "      <th>count</th>\n",
       "      <td>4.000000</td>\n",
       "      <td>5.000000</td>\n",
       "      <td>13.000000</td>\n",
       "      <td>11.000000</td>\n",
       "      <td>13.000000</td>\n",
       "      <td>11.000000</td>\n",
       "      <td>13.000000</td>\n",
       "      <td>6.000000</td>\n",
       "      <td>13.000000</td>\n",
       "    </tr>\n",
       "    <tr>\n",
       "      <th>mean</th>\n",
       "      <td>3.750000</td>\n",
       "      <td>3.800000</td>\n",
       "      <td>4.153846</td>\n",
       "      <td>3.818182</td>\n",
       "      <td>3.384615</td>\n",
       "      <td>3.545455</td>\n",
       "      <td>3.615385</td>\n",
       "      <td>3.666667</td>\n",
       "      <td>3.615385</td>\n",
       "    </tr>\n",
       "    <tr>\n",
       "      <th>std</th>\n",
       "      <td>0.957427</td>\n",
       "      <td>1.095445</td>\n",
       "      <td>0.987096</td>\n",
       "      <td>0.873863</td>\n",
       "      <td>0.869718</td>\n",
       "      <td>1.035725</td>\n",
       "      <td>0.960769</td>\n",
       "      <td>1.505545</td>\n",
       "      <td>1.192928</td>\n",
       "    </tr>\n",
       "    <tr>\n",
       "      <th>min</th>\n",
       "      <td>3.000000</td>\n",
       "      <td>3.000000</td>\n",
       "      <td>2.000000</td>\n",
       "      <td>2.000000</td>\n",
       "      <td>1.000000</td>\n",
       "      <td>1.000000</td>\n",
       "      <td>1.000000</td>\n",
       "      <td>1.000000</td>\n",
       "      <td>1.000000</td>\n",
       "    </tr>\n",
       "    <tr>\n",
       "      <th>25%</th>\n",
       "      <td>3.000000</td>\n",
       "      <td>3.000000</td>\n",
       "      <td>4.000000</td>\n",
       "      <td>3.500000</td>\n",
       "      <td>3.000000</td>\n",
       "      <td>3.000000</td>\n",
       "      <td>3.000000</td>\n",
       "      <td>3.250000</td>\n",
       "      <td>3.000000</td>\n",
       "    </tr>\n",
       "    <tr>\n",
       "      <th>50%</th>\n",
       "      <td>3.500000</td>\n",
       "      <td>3.000000</td>\n",
       "      <td>4.000000</td>\n",
       "      <td>4.000000</td>\n",
       "      <td>4.000000</td>\n",
       "      <td>4.000000</td>\n",
       "      <td>4.000000</td>\n",
       "      <td>4.000000</td>\n",
       "      <td>4.000000</td>\n",
       "    </tr>\n",
       "    <tr>\n",
       "      <th>75%</th>\n",
       "      <td>4.250000</td>\n",
       "      <td>5.000000</td>\n",
       "      <td>5.000000</td>\n",
       "      <td>4.000000</td>\n",
       "      <td>4.000000</td>\n",
       "      <td>4.000000</td>\n",
       "      <td>4.000000</td>\n",
       "      <td>4.750000</td>\n",
       "      <td>4.000000</td>\n",
       "    </tr>\n",
       "    <tr>\n",
       "      <th>max</th>\n",
       "      <td>5.000000</td>\n",
       "      <td>5.000000</td>\n",
       "      <td>5.000000</td>\n",
       "      <td>5.000000</td>\n",
       "      <td>4.000000</td>\n",
       "      <td>5.000000</td>\n",
       "      <td>5.000000</td>\n",
       "      <td>5.000000</td>\n",
       "      <td>5.000000</td>\n",
       "    </tr>\n",
       "  </tbody>\n",
       "</table>\n",
       "</div>"
      ],
      "text/plain": [
       "       Reviews_Ratings_Business service (e.g., internet access)  \\\n",
       "count                                           4.000000          \n",
       "mean                                            3.750000          \n",
       "std                                             0.957427          \n",
       "min                                             3.000000          \n",
       "25%                                             3.000000          \n",
       "50%                                             3.500000          \n",
       "75%                                             4.250000          \n",
       "max                                             5.000000          \n",
       "\n",
       "       Reviews_Ratings_Check in / front desk  Reviews_Ratings_Cleanliness  \\\n",
       "count                               5.000000                    13.000000   \n",
       "mean                                3.800000                     4.153846   \n",
       "std                                 1.095445                     0.987096   \n",
       "min                                 3.000000                     2.000000   \n",
       "25%                                 3.000000                     4.000000   \n",
       "50%                                 3.000000                     4.000000   \n",
       "75%                                 5.000000                     5.000000   \n",
       "max                                 5.000000                     5.000000   \n",
       "\n",
       "       Reviews_Ratings_Location  Reviews_Ratings_Overall  \\\n",
       "count                 11.000000                13.000000   \n",
       "mean                   3.818182                 3.384615   \n",
       "std                    0.873863                 0.869718   \n",
       "min                    2.000000                 1.000000   \n",
       "25%                    3.500000                 3.000000   \n",
       "50%                    4.000000                 4.000000   \n",
       "75%                    4.000000                 4.000000   \n",
       "max                    5.000000                 4.000000   \n",
       "\n",
       "       Reviews_Ratings_Rooms  Reviews_Ratings_Service  \\\n",
       "count              11.000000                13.000000   \n",
       "mean                3.545455                 3.615385   \n",
       "std                 1.035725                 0.960769   \n",
       "min                 1.000000                 1.000000   \n",
       "25%                 3.000000                 3.000000   \n",
       "50%                 4.000000                 4.000000   \n",
       "75%                 4.000000                 4.000000   \n",
       "max                 5.000000                 5.000000   \n",
       "\n",
       "       Reviews_Ratings_Sleep Quality  Reviews_Ratings_Value  \n",
       "count                       6.000000              13.000000  \n",
       "mean                        3.666667               3.615385  \n",
       "std                         1.505545               1.192928  \n",
       "min                         1.000000               1.000000  \n",
       "25%                         3.250000               3.000000  \n",
       "50%                         4.000000               4.000000  \n",
       "75%                         4.750000               4.000000  \n",
       "max                         5.000000               5.000000  "
      ]
     },
     "metadata": {},
     "output_type": "display_data"
    },
    {
     "data": {
      "text/plain": [
       "(142, 12)"
      ]
     },
     "metadata": {},
     "output_type": "display_data"
    },
    {
     "data": {
      "text/html": [
       "<div>\n",
       "<table border=\"1\" class=\"dataframe\">\n",
       "  <thead>\n",
       "    <tr style=\"text-align: right;\">\n",
       "      <th></th>\n",
       "      <th>Reviews_Ratings_Business service</th>\n",
       "      <th>Reviews_Ratings_Check in / front desk</th>\n",
       "      <th>Reviews_Ratings_Cleanliness</th>\n",
       "      <th>Reviews_Ratings_Location</th>\n",
       "      <th>Reviews_Ratings_Overall</th>\n",
       "      <th>Reviews_Ratings_Rooms</th>\n",
       "      <th>Reviews_Ratings_Service</th>\n",
       "      <th>Reviews_Ratings_Value</th>\n",
       "    </tr>\n",
       "  </thead>\n",
       "  <tbody>\n",
       "    <tr>\n",
       "      <th>count</th>\n",
       "      <td>142.000000</td>\n",
       "      <td>142.000000</td>\n",
       "      <td>142.000000</td>\n",
       "      <td>142.000000</td>\n",
       "      <td>142.000000</td>\n",
       "      <td>142.000000</td>\n",
       "      <td>142.000000</td>\n",
       "      <td>142.000000</td>\n",
       "    </tr>\n",
       "    <tr>\n",
       "      <th>mean</th>\n",
       "      <td>0.971831</td>\n",
       "      <td>1.225352</td>\n",
       "      <td>2.535211</td>\n",
       "      <td>1.246479</td>\n",
       "      <td>3.507042</td>\n",
       "      <td>2.323944</td>\n",
       "      <td>2.345070</td>\n",
       "      <td>2.042254</td>\n",
       "    </tr>\n",
       "    <tr>\n",
       "      <th>std</th>\n",
       "      <td>2.509397</td>\n",
       "      <td>2.602220</td>\n",
       "      <td>2.491580</td>\n",
       "      <td>2.560437</td>\n",
       "      <td>1.177487</td>\n",
       "      <td>2.255173</td>\n",
       "      <td>2.417565</td>\n",
       "      <td>2.449123</td>\n",
       "    </tr>\n",
       "    <tr>\n",
       "      <th>min</th>\n",
       "      <td>-1.000000</td>\n",
       "      <td>-1.000000</td>\n",
       "      <td>-1.000000</td>\n",
       "      <td>-1.000000</td>\n",
       "      <td>1.000000</td>\n",
       "      <td>-1.000000</td>\n",
       "      <td>-1.000000</td>\n",
       "      <td>-1.000000</td>\n",
       "    </tr>\n",
       "    <tr>\n",
       "      <th>25%</th>\n",
       "      <td>-1.000000</td>\n",
       "      <td>-1.000000</td>\n",
       "      <td>-1.000000</td>\n",
       "      <td>-1.000000</td>\n",
       "      <td>3.000000</td>\n",
       "      <td>-1.000000</td>\n",
       "      <td>-1.000000</td>\n",
       "      <td>-1.000000</td>\n",
       "    </tr>\n",
       "    <tr>\n",
       "      <th>50%</th>\n",
       "      <td>-1.000000</td>\n",
       "      <td>-1.000000</td>\n",
       "      <td>3.500000</td>\n",
       "      <td>-1.000000</td>\n",
       "      <td>4.000000</td>\n",
       "      <td>3.000000</td>\n",
       "      <td>3.000000</td>\n",
       "      <td>3.000000</td>\n",
       "    </tr>\n",
       "    <tr>\n",
       "      <th>75%</th>\n",
       "      <td>4.000000</td>\n",
       "      <td>4.000000</td>\n",
       "      <td>5.000000</td>\n",
       "      <td>4.000000</td>\n",
       "      <td>4.000000</td>\n",
       "      <td>4.000000</td>\n",
       "      <td>4.000000</td>\n",
       "      <td>4.000000</td>\n",
       "    </tr>\n",
       "    <tr>\n",
       "      <th>max</th>\n",
       "      <td>5.000000</td>\n",
       "      <td>5.000000</td>\n",
       "      <td>5.000000</td>\n",
       "      <td>5.000000</td>\n",
       "      <td>5.000000</td>\n",
       "      <td>5.000000</td>\n",
       "      <td>5.000000</td>\n",
       "      <td>5.000000</td>\n",
       "    </tr>\n",
       "  </tbody>\n",
       "</table>\n",
       "</div>"
      ],
      "text/plain": [
       "       Reviews_Ratings_Business service  \\\n",
       "count                        142.000000   \n",
       "mean                           0.971831   \n",
       "std                            2.509397   \n",
       "min                           -1.000000   \n",
       "25%                           -1.000000   \n",
       "50%                           -1.000000   \n",
       "75%                            4.000000   \n",
       "max                            5.000000   \n",
       "\n",
       "       Reviews_Ratings_Check in / front desk  Reviews_Ratings_Cleanliness  \\\n",
       "count                             142.000000                   142.000000   \n",
       "mean                                1.225352                     2.535211   \n",
       "std                                 2.602220                     2.491580   \n",
       "min                                -1.000000                    -1.000000   \n",
       "25%                                -1.000000                    -1.000000   \n",
       "50%                                -1.000000                     3.500000   \n",
       "75%                                 4.000000                     5.000000   \n",
       "max                                 5.000000                     5.000000   \n",
       "\n",
       "       Reviews_Ratings_Location  Reviews_Ratings_Overall  \\\n",
       "count                142.000000               142.000000   \n",
       "mean                   1.246479                 3.507042   \n",
       "std                    2.560437                 1.177487   \n",
       "min                   -1.000000                 1.000000   \n",
       "25%                   -1.000000                 3.000000   \n",
       "50%                   -1.000000                 4.000000   \n",
       "75%                    4.000000                 4.000000   \n",
       "max                    5.000000                 5.000000   \n",
       "\n",
       "       Reviews_Ratings_Rooms  Reviews_Ratings_Service  Reviews_Ratings_Value  \n",
       "count             142.000000               142.000000             142.000000  \n",
       "mean                2.323944                 2.345070               2.042254  \n",
       "std                 2.255173                 2.417565               2.449123  \n",
       "min                -1.000000                -1.000000              -1.000000  \n",
       "25%                -1.000000                -1.000000              -1.000000  \n",
       "50%                 3.000000                 3.000000               3.000000  \n",
       "75%                 4.000000                 4.000000               4.000000  \n",
       "max                 5.000000                 5.000000               5.000000  "
      ]
     },
     "metadata": {},
     "output_type": "display_data"
    },
    {
     "data": {
      "text/plain": [
       "(369, 15)"
      ]
     },
     "metadata": {},
     "output_type": "display_data"
    },
    {
     "data": {
      "text/html": [
       "<div>\n",
       "<table border=\"1\" class=\"dataframe\">\n",
       "  <thead>\n",
       "    <tr style=\"text-align: right;\">\n",
       "      <th></th>\n",
       "      <th>Reviews_Ratings_Business service (e.g., internet access)</th>\n",
       "      <th>Reviews_Ratings_Check in / front desk</th>\n",
       "      <th>Reviews_Ratings_Cleanliness</th>\n",
       "      <th>Reviews_Ratings_Location</th>\n",
       "      <th>Reviews_Ratings_Overall</th>\n",
       "      <th>Reviews_Ratings_Rooms</th>\n",
       "      <th>Reviews_Ratings_Service</th>\n",
       "      <th>Reviews_Ratings_Sleep Quality</th>\n",
       "      <th>Reviews_Ratings_Value</th>\n",
       "    </tr>\n",
       "  </thead>\n",
       "  <tbody>\n",
       "    <tr>\n",
       "      <th>count</th>\n",
       "      <td>79.000000</td>\n",
       "      <td>108.000000</td>\n",
       "      <td>335.000000</td>\n",
       "      <td>281.000000</td>\n",
       "      <td>369.000000</td>\n",
       "      <td>305.000000</td>\n",
       "      <td>341.000000</td>\n",
       "      <td>146.000000</td>\n",
       "      <td>334.000000</td>\n",
       "    </tr>\n",
       "    <tr>\n",
       "      <th>mean</th>\n",
       "      <td>4.696203</td>\n",
       "      <td>4.814815</td>\n",
       "      <td>4.910448</td>\n",
       "      <td>4.797153</td>\n",
       "      <td>4.712737</td>\n",
       "      <td>4.806557</td>\n",
       "      <td>4.739003</td>\n",
       "      <td>4.787671</td>\n",
       "      <td>4.173653</td>\n",
       "    </tr>\n",
       "    <tr>\n",
       "      <th>std</th>\n",
       "      <td>0.739966</td>\n",
       "      <td>0.671839</td>\n",
       "      <td>0.399526</td>\n",
       "      <td>0.497988</td>\n",
       "      <td>0.765333</td>\n",
       "      <td>0.583735</td>\n",
       "      <td>0.796631</td>\n",
       "      <td>0.666529</td>\n",
       "      <td>1.051137</td>\n",
       "    </tr>\n",
       "    <tr>\n",
       "      <th>min</th>\n",
       "      <td>1.000000</td>\n",
       "      <td>1.000000</td>\n",
       "      <td>1.000000</td>\n",
       "      <td>1.000000</td>\n",
       "      <td>1.000000</td>\n",
       "      <td>1.000000</td>\n",
       "      <td>1.000000</td>\n",
       "      <td>1.000000</td>\n",
       "      <td>1.000000</td>\n",
       "    </tr>\n",
       "    <tr>\n",
       "      <th>25%</th>\n",
       "      <td>5.000000</td>\n",
       "      <td>5.000000</td>\n",
       "      <td>5.000000</td>\n",
       "      <td>5.000000</td>\n",
       "      <td>5.000000</td>\n",
       "      <td>5.000000</td>\n",
       "      <td>5.000000</td>\n",
       "      <td>5.000000</td>\n",
       "      <td>4.000000</td>\n",
       "    </tr>\n",
       "    <tr>\n",
       "      <th>50%</th>\n",
       "      <td>5.000000</td>\n",
       "      <td>5.000000</td>\n",
       "      <td>5.000000</td>\n",
       "      <td>5.000000</td>\n",
       "      <td>5.000000</td>\n",
       "      <td>5.000000</td>\n",
       "      <td>5.000000</td>\n",
       "      <td>5.000000</td>\n",
       "      <td>4.000000</td>\n",
       "    </tr>\n",
       "    <tr>\n",
       "      <th>75%</th>\n",
       "      <td>5.000000</td>\n",
       "      <td>5.000000</td>\n",
       "      <td>5.000000</td>\n",
       "      <td>5.000000</td>\n",
       "      <td>5.000000</td>\n",
       "      <td>5.000000</td>\n",
       "      <td>5.000000</td>\n",
       "      <td>5.000000</td>\n",
       "      <td>5.000000</td>\n",
       "    </tr>\n",
       "    <tr>\n",
       "      <th>max</th>\n",
       "      <td>5.000000</td>\n",
       "      <td>5.000000</td>\n",
       "      <td>5.000000</td>\n",
       "      <td>5.000000</td>\n",
       "      <td>5.000000</td>\n",
       "      <td>5.000000</td>\n",
       "      <td>5.000000</td>\n",
       "      <td>5.000000</td>\n",
       "      <td>5.000000</td>\n",
       "    </tr>\n",
       "  </tbody>\n",
       "</table>\n",
       "</div>"
      ],
      "text/plain": [
       "       Reviews_Ratings_Business service (e.g., internet access)  \\\n",
       "count                                          79.000000          \n",
       "mean                                            4.696203          \n",
       "std                                             0.739966          \n",
       "min                                             1.000000          \n",
       "25%                                             5.000000          \n",
       "50%                                             5.000000          \n",
       "75%                                             5.000000          \n",
       "max                                             5.000000          \n",
       "\n",
       "       Reviews_Ratings_Check in / front desk  Reviews_Ratings_Cleanliness  \\\n",
       "count                             108.000000                   335.000000   \n",
       "mean                                4.814815                     4.910448   \n",
       "std                                 0.671839                     0.399526   \n",
       "min                                 1.000000                     1.000000   \n",
       "25%                                 5.000000                     5.000000   \n",
       "50%                                 5.000000                     5.000000   \n",
       "75%                                 5.000000                     5.000000   \n",
       "max                                 5.000000                     5.000000   \n",
       "\n",
       "       Reviews_Ratings_Location  Reviews_Ratings_Overall  \\\n",
       "count                281.000000               369.000000   \n",
       "mean                   4.797153                 4.712737   \n",
       "std                    0.497988                 0.765333   \n",
       "min                    1.000000                 1.000000   \n",
       "25%                    5.000000                 5.000000   \n",
       "50%                    5.000000                 5.000000   \n",
       "75%                    5.000000                 5.000000   \n",
       "max                    5.000000                 5.000000   \n",
       "\n",
       "       Reviews_Ratings_Rooms  Reviews_Ratings_Service  \\\n",
       "count             305.000000               341.000000   \n",
       "mean                4.806557                 4.739003   \n",
       "std                 0.583735                 0.796631   \n",
       "min                 1.000000                 1.000000   \n",
       "25%                 5.000000                 5.000000   \n",
       "50%                 5.000000                 5.000000   \n",
       "75%                 5.000000                 5.000000   \n",
       "max                 5.000000                 5.000000   \n",
       "\n",
       "       Reviews_Ratings_Sleep Quality  Reviews_Ratings_Value  \n",
       "count                     146.000000             334.000000  \n",
       "mean                        4.787671               4.173653  \n",
       "std                         0.666529               1.051137  \n",
       "min                         1.000000               1.000000  \n",
       "25%                         5.000000               4.000000  \n",
       "50%                         5.000000               4.000000  \n",
       "75%                         5.000000               5.000000  \n",
       "max                         5.000000               5.000000  "
      ]
     },
     "metadata": {},
     "output_type": "display_data"
    }
   ],
   "source": [
    "# the following function describes the different statistics for the numerical data fields\n",
    "for r in reviews:\n",
    "    display(r.shape)\n",
    "    display(r.describe())"
   ]
  },
  {
   "cell_type": "markdown",
   "metadata": {},
   "source": [
    "Max value : for almost all the columns for all hotels is 5, that is the highest rating.\n",
    "\n",
    "Min value : for hotel number 1,2,5 is 1 (hotel 2 has 2 min rating for business service)\n",
    "            hotel 4 has min value for rating -1 (I am not sure about hotel 4 as -1 doesn't seem like a valid value but I am going to assume that it is valid)  and hotel 3 has min value of 3 and 2 for few variables and 1 for the rest\n",
    "            We can conclude at a high level from this behavious of rating that hotel 3 customers didn't get into that much bad experience as others. "
   ]
  },
  {
   "cell_type": "markdown",
   "metadata": {
    "collapsed": true
   },
   "source": [
    "Now we have max of 9 columns with numerical values, I will take explore these columns for each hotel one by one (maybe not all)"
   ]
  },
  {
   "cell_type": "code",
   "execution_count": 18,
   "metadata": {
    "collapsed": false
   },
   "outputs": [
    {
     "data": {
      "text/plain": [
       "<matplotlib.axes._subplots.AxesSubplot at 0xd2a94a8>"
      ]
     },
     "execution_count": 18,
     "metadata": {},
     "output_type": "execute_result"
    },
    {
     "data": {
      "image/png": "[encoded data removed]",
      "text/plain": [
       "<matplotlib.figure.Figure at 0xd3db358>"
      ]
     },
     "metadata": {},
     "output_type": "display_data"
    }
   ],
   "source": [
    "reviews[0]['Reviews_Ratings_Cleanliness'].hist()"
   ]
  },
  {
   "cell_type": "code",
   "execution_count": 19,
   "metadata": {
    "collapsed": false
   },
   "outputs": [
    {
     "data": {
      "text/plain": [
       "<matplotlib.axes._subplots.AxesSubplot at 0xd5d6668>"
      ]
     },
     "execution_count": 19,
     "metadata": {},
     "output_type": "execute_result"
    },
    {
     "data": {
      "image/png": "[encoded data removed]",
      "text/plain": [
       "<matplotlib.figure.Figure at 0xd5e2dd8>"
      ]
     },
     "metadata": {},
     "output_type": "display_data"
    }
   ],
   "source": [
    "reviews[1]['Reviews_Ratings_Cleanliness'].hist()"
   ]
  },
  {
   "cell_type": "code",
   "execution_count": 20,
   "metadata": {
    "collapsed": false
   },
   "outputs": [
    {
     "data": {
      "text/plain": [
       "<matplotlib.axes._subplots.AxesSubplot at 0xd5ee470>"
      ]
     },
     "execution_count": 20,
     "metadata": {},
     "output_type": "execute_result"
    },
    {
     "data": {
      "image/png": "[encoded data removed]",
      "text/plain": [
       "<matplotlib.figure.Figure at 0xd90bcc0>"
      ]
     },
     "metadata": {},
     "output_type": "display_data"
    }
   ],
   "source": [
    "reviews[2]['Reviews_Ratings_Cleanliness'].hist()"
   ]
  },
  {
   "cell_type": "code",
   "execution_count": 21,
   "metadata": {
    "collapsed": false
   },
   "outputs": [
    {
     "data": {
      "text/plain": [
       "<matplotlib.axes._subplots.AxesSubplot at 0xd9c17b8>"
      ]
     },
     "execution_count": 21,
     "metadata": {},
     "output_type": "execute_result"
    },
    {
     "data": {
      "image/png": "[encoded data removed]",
      "text/plain": [
       "<matplotlib.figure.Figure at 0xd4ab4e0>"
      ]
     },
     "metadata": {},
     "output_type": "display_data"
    }
   ],
   "source": [
    "reviews[3]['Reviews_Ratings_Cleanliness'].hist()"
   ]
  },
  {
   "cell_type": "code",
   "execution_count": 25,
   "metadata": {
    "collapsed": false
   },
   "outputs": [
    {
     "data": {
      "text/plain": [
       "<matplotlib.axes._subplots.AxesSubplot at 0xe515a90>"
      ]
     },
     "execution_count": 25,
     "metadata": {},
     "output_type": "execute_result"
    },
    {
     "data": {
      "image/png": "[encoded data removed]",
      "text/plain": [
       "<matplotlib.figure.Figure at 0xe520c18>"
      ]
     },
     "metadata": {},
     "output_type": "display_data"
    }
   ],
   "source": [
    "reviews[4]['Reviews_Ratings_Cleanliness'].hist()"
   ]
  },
  {
   "cell_type": "code",
   "execution_count": null,
   "metadata": {
    "collapsed": true
   },
   "outputs": [],
   "source": []
  }
 ],
 "metadata": {
  "kernelspec": {
   "display_name": "Python 2",
   "language": "python",
   "name": "python2"
  },
  "language_info": {
   "codemirror_mode": {
    "name": "ipython",
    "version": 2
   },
   "file_extension": ".py",
   "mimetype": "text/x-python",
   "name": "python",
   "nbconvert_exporter": "python",
   "pygments_lexer": "ipython2",
   "version": "2.7.13"
  }
 },
 "nbformat": 4,
 "nbformat_minor": 2
}
